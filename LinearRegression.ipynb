{
  "nbformat": 4,
  "nbformat_minor": 0,
  "metadata": {
    "colab": {
      "provenance": [],
      "authorship_tag": "ABX9TyMCmWkzPwizMZE994b3xgbD",
      "include_colab_link": true
    },
    "kernelspec": {
      "name": "python3",
      "display_name": "Python 3"
    },
    "language_info": {
      "name": "python"
    }
  },
  "cells": [
    {
      "cell_type": "markdown",
      "metadata": {
        "id": "view-in-github",
        "colab_type": "text"
      },
      "source": [
        "<a href=\"https://colab.research.google.com/github/Parthapcs/level-up-python-3210418/blob/main/LinearRegression.ipynb\" target=\"_parent\"><img src=\"https://colab.research.google.com/assets/colab-badge.svg\" alt=\"Open In Colab\"/></a>"
      ]
    },
    {
      "cell_type": "code",
      "execution_count": 2,
      "metadata": {
        "id": "ESDvbxogwCpL"
      },
      "outputs": [],
      "source": [
        "#Importing Libraries\n",
        "import pandas as pd\n",
        "import numpy as np\n",
        "#Importing Data in CSV format\n",
        "df = pd.read_csv('/content/train.csv')\n"
      ]
    },
    {
      "cell_type": "code",
      "source": [
        "df2=df.drop(['Id', 'MSSubClass', 'MSZoning', 'LotShape', 'YrSold', 'Alley', 'LandContour', 'Utilities', 'LotConfig', 'LandSlope', 'RoofMatl', 'RoofStyle', 'Exterior1st', 'Exterior2nd', 'MasVnrType', 'Foundation', 'Street', 'OverallCond', 'ExterQual', 'ExterCond', 'BsmtQual', 'BsmtCond', 'BsmtExposure', 'BsmtFinType1', 'Neighborhood', 'BsmtFinType2', 'Heating', 'HeatingQC', 'CentralAir', 'Electrical', 'FireplaceQu', 'GarageType', 'GarageFinish', 'GarageQual', 'GarageCond', 'PavedDrive', 'PoolQC', 'Fence', 'MiscFeature', 'SaleType', 'SaleCondition', 'LotFrontage', 'Condition1', 'Condition2', 'BldgType', 'HouseStyle', 'YearBuilt', 'YearRemodAdd','MasVnrArea', 'BsmtFinSF1', 'BsmtFinSF2', 'BsmtUnfSF', 'LowQualFinSF', 'BsmtFullBath', 'BsmtHalfBath', 'FullBath', 'HalfBath', 'BedroomAbvGr', 'KitchenAbvGr', 'KitchenQual', 'TotRmsAbvGrd', 'Functional', 'Fireplaces', 'GarageYrBlt', 'GarageCars', 'WoodDeckSF', 'OpenPorchSF', 'EnclosedPorch', '3SsnPorch', 'LotArea', 'ScreenPorch', 'MiscVal', 'MoSold', 'PoolArea', '2ndFlrSF', '1stFlrSF', 'GarageArea'], axis=1)\n",
        "print(df2)"
      ],
      "metadata": {
        "colab": {
          "base_uri": "https://localhost:8080/"
        },
        "id": "mwnECWsMy9mF",
        "outputId": "393c523f-116b-47c5-e75b-e111c97cf961"
      },
      "execution_count": 11,
      "outputs": [
        {
          "output_type": "stream",
          "name": "stdout",
          "text": [
            "      OverallQual  TotalBsmtSF  GrLivArea  SalePrice\n",
            "0               7          856       1710     208500\n",
            "1               6         1262       1262     181500\n",
            "2               7          920       1786     223500\n",
            "3               7          756       1717     140000\n",
            "4               8         1145       2198     250000\n",
            "...           ...          ...        ...        ...\n",
            "1455            6          953       1647     175000\n",
            "1456            6         1542       2073     210000\n",
            "1457            7         1152       2340     266500\n",
            "1458            5         1078       1078     142125\n",
            "1459            5         1256       1256     147500\n",
            "\n",
            "[1460 rows x 4 columns]\n"
          ]
        }
      ]
    },
    {
      "cell_type": "code",
      "source": [
        "df2.isna().sum()"
      ],
      "metadata": {
        "colab": {
          "base_uri": "https://localhost:8080/"
        },
        "id": "5yVsyA3Mzcpr",
        "outputId": "ec2a780a-efb8-4032-b3af-44859570d271"
      },
      "execution_count": 12,
      "outputs": [
        {
          "output_type": "execute_result",
          "data": {
            "text/plain": [
              "OverallQual    0\n",
              "TotalBsmtSF    0\n",
              "GrLivArea      0\n",
              "SalePrice      0\n",
              "dtype: int64"
            ]
          },
          "metadata": {},
          "execution_count": 12
        }
      ]
    },
    {
      "cell_type": "code",
      "source": [
        "from sklearn.linear_model import LinearRegression\n",
        "from sklearn.model_selection import train_test_split\n",
        "X = df2[['TotalBsmtSF','GrLivArea','OverallQual']]\n",
        "y = df2['SalePrice']\n",
        "X_train, X_test, y_train, y_test = train_test_split(X, y, test_size = 0.25, random_state = 0)"
      ],
      "metadata": {
        "id": "3A5tiPszzrcm"
      },
      "execution_count": 13,
      "outputs": []
    },
    {
      "cell_type": "code",
      "source": [
        "regr = LinearRegression()\n",
        "regr.fit(df2[['TotalBsmtSF','GrLivArea','OverallQual']],df2.SalePrice)"
      ],
      "metadata": {
        "colab": {
          "base_uri": "https://localhost:8080/"
        },
        "id": "wKrURAtQ0eKU",
        "outputId": "92eb5f98-6f9b-47ae-b8da-2ba7a4f1ce7c"
      },
      "execution_count": 14,
      "outputs": [
        {
          "output_type": "execute_result",
          "data": {
            "text/plain": [
              "LinearRegression()"
            ]
          },
          "metadata": {},
          "execution_count": 14
        }
      ]
    },
    {
      "cell_type": "code",
      "source": [
        "regr.score(X_test, y_test)"
      ],
      "metadata": {
        "colab": {
          "base_uri": "https://localhost:8080/"
        },
        "id": "Rlk0M2V60joM",
        "outputId": "7a9316ac-e430-4a94-81d8-8e83386da196"
      },
      "execution_count": 15,
      "outputs": [
        {
          "output_type": "execute_result",
          "data": {
            "text/plain": [
              "0.6775357515321669"
            ]
          },
          "metadata": {},
          "execution_count": 15
        }
      ]
    },
    {
      "cell_type": "code",
      "source": [
        "y_pred = regr.predict(X_test)\n",
        "from sklearn import metrics\n",
        "print(metrics.mean_absolute_error(y_test, y_pred))\n",
        "print(metrics.mean_absolute_percentage_error(y_test, y_pred))\n",
        "print(metrics.mean_squared_error(y_test, y_pred))\n",
        "print(metrics.mean_squared_log_error(y_test, y_pred))"
      ],
      "metadata": {
        "colab": {
          "base_uri": "https://localhost:8080/"
        },
        "id": "MXBvpYpu1SIk",
        "outputId": "d09d7438-9446-4404-ce79-c3e1509fc846"
      },
      "execution_count": 16,
      "outputs": [
        {
          "output_type": "stream",
          "name": "stdout",
          "text": [
            "26399.524134451785\n",
            "0.16003160491651697\n",
            "2128882136.5932326\n",
            "0.051692582622959435\n"
          ]
        }
      ]
    }
  ]
}