{
  "nbformat": 4,
  "nbformat_minor": 0,
  "metadata": {
    "colab": {
      "provenance": [],
      "authorship_tag": "ABX9TyN9PGM8gZcU4jTtiartVc13",
      "include_colab_link": true
    },
    "kernelspec": {
      "name": "python3",
      "display_name": "Python 3"
    },
    "language_info": {
      "name": "python"
    }
  },
  "cells": [
    {
      "cell_type": "markdown",
      "metadata": {
        "id": "view-in-github",
        "colab_type": "text"
      },
      "source": [
        "<a href=\"https://colab.research.google.com/github/Parthapcs/level-up-python-3210418/blob/main/Untitled0.ipynb\" target=\"_parent\"><img src=\"https://colab.research.google.com/assets/colab-badge.svg\" alt=\"Open In Colab\"/></a>"
      ]
    },
    {
      "cell_type": "code",
      "execution_count": 23,
      "metadata": {
        "id": "ESDvbxogwCpL"
      },
      "outputs": [],
      "source": [
        "#Importing Libraries\n",
        "import pandas as pd\n",
        "import numpy as np\n",
        "#Importing Data in CSV format\n",
        "df = pd.read_csv(r'/content/train.csv')\n"
      ]
    },
    {
      "cell_type": "code",
      "source": [
        "df2=df.drop(['Id', 'MSSubClass', 'MSZoning', 'LotShape', 'Street', 'Alley', 'LandContour', 'Utilities', 'LotConfig', 'LandSlope', 'RoofMatl', 'RoofStyle', 'Exterior1st', 'Exterior2nd', 'MasVnrType', 'Foundation', 'OverallQual', 'OverallCond', 'ExterQual', 'ExterCond', 'BsmtQual', 'BsmtCond', 'BsmtExposure', 'BsmtFinType1', 'Neighborhood', 'BsmtFinType2', 'Heating', 'HeatingQC', 'CentralAir', 'Electrical', 'FireplaceQu', 'GarageType', 'GarageFinish', 'GarageQual', 'GarageCond', 'PavedDrive', 'PoolQC', 'Fence', 'MiscFeature', 'SaleType', 'SaleCondition', 'LotFrontage', 'Condition1', 'Condition2', 'BldgType', 'HouseStyle', 'YearBuilt', 'YearRemodAdd','MasVnrArea', 'BsmtFinSF1', 'BsmtFinSF2', 'BsmtUnfSF', 'LowQualFinSF', 'BsmtFullBath', 'BsmtHalfBath', 'FullBath', 'HalfBath', 'BedroomAbvGr', 'KitchenAbvGr', 'KitchenQual', 'TotRmsAbvGrd', 'Functional', 'Fireplaces', 'GarageYrBlt', 'GarageCars', 'WoodDeckSF', 'OpenPorchSF', 'EnclosedPorch', '3SsnPorch', 'LotArea', 'ScreenPorch', 'MiscVal', 'MoSold', 'PoolArea', '2ndFlrSF', '1stFlrSF', 'GarageArea'], axis=1)\n",
        "print(df2)"
      ],
      "metadata": {
        "colab": {
          "base_uri": "https://localhost:8080/"
        },
        "id": "mwnECWsMy9mF",
        "outputId": "ecd7fb05-a770-4368-d888-23c447976a61"
      },
      "execution_count": 39,
      "outputs": [
        {
          "output_type": "stream",
          "name": "stdout",
          "text": [
            "      TotalBsmtSF  GrLivArea  YrSold  SalePrice\n",
            "0             856       1710    2008     208500\n",
            "1            1262       1262    2007     181500\n",
            "2             920       1786    2008     223500\n",
            "3             756       1717    2006     140000\n",
            "4            1145       2198    2008     250000\n",
            "...           ...        ...     ...        ...\n",
            "1455          953       1647    2007     175000\n",
            "1456         1542       2073    2010     210000\n",
            "1457         1152       2340    2010     266500\n",
            "1458         1078       1078    2010     142125\n",
            "1459         1256       1256    2008     147500\n",
            "\n",
            "[1460 rows x 4 columns]\n"
          ]
        }
      ]
    },
    {
      "cell_type": "code",
      "source": [
        "df2.isna().sum()"
      ],
      "metadata": {
        "colab": {
          "base_uri": "https://localhost:8080/"
        },
        "id": "5yVsyA3Mzcpr",
        "outputId": "18bc9c22-4472-4c84-a168-5823edef471a"
      },
      "execution_count": 33,
      "outputs": [
        {
          "output_type": "execute_result",
          "data": {
            "text/plain": [
              "LotArea        0\n",
              "TotalBsmtSF    0\n",
              "GrLivArea      0\n",
              "YrSold         0\n",
              "SalePrice      0\n",
              "dtype: int64"
            ]
          },
          "metadata": {},
          "execution_count": 33
        }
      ]
    },
    {
      "cell_type": "code",
      "source": [
        "from sklearn.linear_model import LinearRegression\n",
        "from sklearn.model_selection import train_test_split\n",
        "X = df2[['TotalBsmtSF','GrLivArea','YrSold']]\n",
        "y = df2['SalePrice']\n",
        "X_train, X_test, y_train, y_test = train_test_split(X, y, test_size = 0.25, random_state = 0)"
      ],
      "metadata": {
        "id": "3A5tiPszzrcm"
      },
      "execution_count": 40,
      "outputs": []
    },
    {
      "cell_type": "markdown",
      "source": [
        "# New section"
      ],
      "metadata": {
        "id": "DZzEEuniDI3y"
      }
    },
    {
      "cell_type": "code",
      "source": [
        "regr = LinearRegression()\n",
        "regr.fit(df2[['TotalBsmtSF','GrLivArea','YrSold']],df2.SalePrice)"
      ],
      "metadata": {
        "colab": {
          "base_uri": "https://localhost:8080/"
        },
        "id": "wKrURAtQ0eKU",
        "outputId": "04a9bb10-6e75-4f69-8c6f-f8f8ceab6cb8"
      },
      "execution_count": 41,
      "outputs": [
        {
          "output_type": "execute_result",
          "data": {
            "text/plain": [
              "LinearRegression()"
            ]
          },
          "metadata": {},
          "execution_count": 41
        }
      ]
    },
    {
      "cell_type": "code",
      "source": [
        "regr.score(X_test, y_test)"
      ],
      "metadata": {
        "colab": {
          "base_uri": "https://localhost:8080/"
        },
        "id": "Rlk0M2V60joM",
        "outputId": "73b8faf8-074e-4e27-fed8-1fde08a09b03"
      },
      "execution_count": 42,
      "outputs": [
        {
          "output_type": "execute_result",
          "data": {
            "text/plain": [
              "0.48505784565425303"
            ]
          },
          "metadata": {},
          "execution_count": 42
        }
      ]
    },
    {
      "cell_type": "code",
      "source": [
        "y_pred = regr.predict(X_test)\n",
        "from sklearn import metrics\n",
        "print(metrics.mean_absolute_error(y_test, y_pred))\n",
        "print(metrics.mean_absolute_percentage_error(y_test, y_pred))\n",
        "print(metrics.mean_squared_error(y_test, y_pred))\n",
        "print(metrics.mean_squared_log_error(y_test, y_pred))"
      ],
      "metadata": {
        "colab": {
          "base_uri": "https://localhost:8080/"
        },
        "id": "MXBvpYpu1SIk",
        "outputId": "9b399731-835d-4fb7-ae06-0ffd560a7adb"
      },
      "execution_count": 43,
      "outputs": [
        {
          "output_type": "stream",
          "name": "stdout",
          "text": [
            "32080.215843160488\n",
            "0.18322959224499238\n",
            "3399605255.3864765\n",
            "0.056003871206366414\n"
          ]
        }
      ]
    }
  ]
}